{
 "cells": [
  {
   "cell_type": "markdown",
   "id": "floppy-toddler",
   "metadata": {},
   "source": [
    "## Disney Movies Total Gross dataset\n",
    "\n",
    "\n",
    "## Table of Contents\n",
    "<ul>\n",
    "<li><a href=\"#intro\">Introduction</a></li>\n",
    "<li><a href=\"#wrangling\">Data Wrangling</a></li>\n",
    "<li><a href=\"#cleaning\">Data Cleaning</a></li>\n",
    "<li><a href=\"#eda\">Exploratory Data Analysis</a></li>\n",
    "<li><a href=\"#conclusions\">Conclusions</a></li>\n",
    "</ul>"
   ]
  },
  {
   "cell_type": "markdown",
   "id": "private-negotiation",
   "metadata": {},
   "source": [
    "<a id='intro'></a>\n",
    "## Introduction"
   ]
  },
  {
   "cell_type": "markdown",
   "id": "integrated-mexican",
   "metadata": {},
   "source": [
    "In This project, I investigate a dataset of Disney movies.\\\n",
    "This dataset contains 579 Disney movies with six features: movie title, release date, genre, MPAA rating, total gross, and inflation-adjusted gross.\\\n",
    "\\\n",
    "I will work on the data to answer the next questions:\n",
    "1. Top 10 movies at the box office?\n",
    "2. Movie genre trend:\n",
    ">From the top 10 movies above, it seems that some genres are more popular than others. So, we will check which genres are growing stronger in popularity.\n",
    "3. Visualize the genre popularity trend:\n",
    ">make a plot out of these means of groups to better see how box office revenues have changed over time.\n",
    "4. Should Disney make more action and adventure movies?"
   ]
  },
  {
   "cell_type": "markdown",
   "id": "elect-business",
   "metadata": {},
   "source": [
    "#### Import the necessary library"
   ]
  },
  {
   "cell_type": "code",
   "execution_count": 1,
   "id": "primary-barbados",
   "metadata": {},
   "outputs": [],
   "source": [
    "import numpy as np\n",
    "import pandas as pd\n",
    "import matplotlib.pyplot as plt"
   ]
  },
  {
   "cell_type": "markdown",
   "id": "average-envelope",
   "metadata": {},
   "source": [
    "<a id='wrangling'></a>\n",
    "## Data Wrangling"
   ]
  },
  {
   "cell_type": "code",
   "execution_count": 2,
   "id": "ignored-respondent",
   "metadata": {},
   "outputs": [
    {
     "data": {
      "text/html": [
       "<div>\n",
       "<style scoped>\n",
       "    .dataframe tbody tr th:only-of-type {\n",
       "        vertical-align: middle;\n",
       "    }\n",
       "\n",
       "    .dataframe tbody tr th {\n",
       "        vertical-align: top;\n",
       "    }\n",
       "\n",
       "    .dataframe thead th {\n",
       "        text-align: right;\n",
       "    }\n",
       "</style>\n",
       "<table border=\"1\" class=\"dataframe\">\n",
       "  <thead>\n",
       "    <tr style=\"text-align: right;\">\n",
       "      <th></th>\n",
       "      <th>movie_title</th>\n",
       "      <th>release_date</th>\n",
       "      <th>genre</th>\n",
       "      <th>MPAA_rating</th>\n",
       "      <th>total_gross</th>\n",
       "      <th>inflation_adjusted_gross</th>\n",
       "    </tr>\n",
       "  </thead>\n",
       "  <tbody>\n",
       "    <tr>\n",
       "      <th>0</th>\n",
       "      <td>Snow White and the Seven Dwarfs</td>\n",
       "      <td>Dec 21, 1937</td>\n",
       "      <td>Musical</td>\n",
       "      <td>G</td>\n",
       "      <td>$184,925,485</td>\n",
       "      <td>$5,228,953,251</td>\n",
       "    </tr>\n",
       "    <tr>\n",
       "      <th>1</th>\n",
       "      <td>Pinocchio</td>\n",
       "      <td>Feb 9, 1940</td>\n",
       "      <td>Adventure</td>\n",
       "      <td>G</td>\n",
       "      <td>$84,300,000</td>\n",
       "      <td>$2,188,229,052</td>\n",
       "    </tr>\n",
       "    <tr>\n",
       "      <th>2</th>\n",
       "      <td>Fantasia</td>\n",
       "      <td>Nov 13, 1940</td>\n",
       "      <td>Musical</td>\n",
       "      <td>G</td>\n",
       "      <td>$83,320,000</td>\n",
       "      <td>$2,187,090,808</td>\n",
       "    </tr>\n",
       "    <tr>\n",
       "      <th>3</th>\n",
       "      <td>Song of the South</td>\n",
       "      <td>Nov 12, 1946</td>\n",
       "      <td>Adventure</td>\n",
       "      <td>G</td>\n",
       "      <td>$65,000,000</td>\n",
       "      <td>$1,078,510,579</td>\n",
       "    </tr>\n",
       "    <tr>\n",
       "      <th>4</th>\n",
       "      <td>Cinderella</td>\n",
       "      <td>Feb 15, 1950</td>\n",
       "      <td>Drama</td>\n",
       "      <td>G</td>\n",
       "      <td>$85,000,000</td>\n",
       "      <td>$920,608,730</td>\n",
       "    </tr>\n",
       "  </tbody>\n",
       "</table>\n",
       "</div>"
      ],
      "text/plain": [
       "                       movie_title  release_date      genre MPAA_rating  \\\n",
       "0  Snow White and the Seven Dwarfs  Dec 21, 1937    Musical           G   \n",
       "1                        Pinocchio   Feb 9, 1940  Adventure           G   \n",
       "2                         Fantasia  Nov 13, 1940    Musical           G   \n",
       "3                Song of the South  Nov 12, 1946  Adventure           G   \n",
       "4                       Cinderella  Feb 15, 1950      Drama           G   \n",
       "\n",
       "    total_gross inflation_adjusted_gross  \n",
       "0  $184,925,485           $5,228,953,251  \n",
       "1   $84,300,000           $2,188,229,052  \n",
       "2   $83,320,000           $2,187,090,808  \n",
       "3   $65,000,000           $1,078,510,579  \n",
       "4   $85,000,000             $920,608,730  "
      ]
     },
     "execution_count": 2,
     "metadata": {},
     "output_type": "execute_result"
    }
   ],
   "source": [
    "# Importing the data into DataFrame and show investigate the first rows.\n",
    "mov = pd.read_csv('disney_movies_total_gross.csv')\n",
    "mov.head()"
   ]
  },
  {
   "cell_type": "code",
   "execution_count": 3,
   "id": "historic-support",
   "metadata": {},
   "outputs": [
    {
     "name": "stdout",
     "output_type": "stream",
     "text": [
      "<class 'pandas.core.frame.DataFrame'>\n",
      "RangeIndex: 579 entries, 0 to 578\n",
      "Data columns (total 6 columns):\n",
      " #   Column                    Non-Null Count  Dtype \n",
      "---  ------                    --------------  ----- \n",
      " 0   movie_title               579 non-null    object\n",
      " 1   release_date              579 non-null    object\n",
      " 2   genre                     562 non-null    object\n",
      " 3   MPAA_rating               523 non-null    object\n",
      " 4   total_gross               579 non-null    object\n",
      " 5   inflation_adjusted_gross  579 non-null    object\n",
      "dtypes: object(6)\n",
      "memory usage: 27.3+ KB\n"
     ]
    }
   ],
   "source": [
    "# Full view on the DataFrame about the number of the rows, columns, non-null values, and the type of the data.\n",
    "mov.info()"
   ]
  },
  {
   "cell_type": "code",
   "execution_count": 4,
   "id": "conscious-sheep",
   "metadata": {},
   "outputs": [
    {
     "data": {
      "text/html": [
       "<div>\n",
       "<style scoped>\n",
       "    .dataframe tbody tr th:only-of-type {\n",
       "        vertical-align: middle;\n",
       "    }\n",
       "\n",
       "    .dataframe tbody tr th {\n",
       "        vertical-align: top;\n",
       "    }\n",
       "\n",
       "    .dataframe thead th {\n",
       "        text-align: right;\n",
       "    }\n",
       "</style>\n",
       "<table border=\"1\" class=\"dataframe\">\n",
       "  <thead>\n",
       "    <tr style=\"text-align: right;\">\n",
       "      <th></th>\n",
       "      <th>movie_title</th>\n",
       "      <th>release_date</th>\n",
       "      <th>genre</th>\n",
       "      <th>MPAA_rating</th>\n",
       "      <th>total_gross</th>\n",
       "      <th>inflation_adjusted_gross</th>\n",
       "    </tr>\n",
       "  </thead>\n",
       "  <tbody>\n",
       "    <tr>\n",
       "      <th>count</th>\n",
       "      <td>579</td>\n",
       "      <td>579</td>\n",
       "      <td>562</td>\n",
       "      <td>523</td>\n",
       "      <td>579</td>\n",
       "      <td>579</td>\n",
       "    </tr>\n",
       "    <tr>\n",
       "      <th>unique</th>\n",
       "      <td>573</td>\n",
       "      <td>553</td>\n",
       "      <td>12</td>\n",
       "      <td>5</td>\n",
       "      <td>576</td>\n",
       "      <td>576</td>\n",
       "    </tr>\n",
       "    <tr>\n",
       "      <th>top</th>\n",
       "      <td>The Jungle Book</td>\n",
       "      <td>Dec 25, 1997</td>\n",
       "      <td>Comedy</td>\n",
       "      <td>PG</td>\n",
       "      <td>$0</td>\n",
       "      <td>$0</td>\n",
       "    </tr>\n",
       "    <tr>\n",
       "      <th>freq</th>\n",
       "      <td>3</td>\n",
       "      <td>3</td>\n",
       "      <td>182</td>\n",
       "      <td>187</td>\n",
       "      <td>4</td>\n",
       "      <td>4</td>\n",
       "    </tr>\n",
       "  </tbody>\n",
       "</table>\n",
       "</div>"
      ],
      "text/plain": [
       "            movie_title  release_date   genre MPAA_rating total_gross  \\\n",
       "count               579           579     562         523         579   \n",
       "unique              573           553      12           5         576   \n",
       "top     The Jungle Book  Dec 25, 1997  Comedy          PG          $0   \n",
       "freq                  3             3     182         187           4   \n",
       "\n",
       "       inflation_adjusted_gross  \n",
       "count                       579  \n",
       "unique                      576  \n",
       "top                          $0  \n",
       "freq                          4  "
      ]
     },
     "execution_count": 4,
     "metadata": {},
     "output_type": "execute_result"
    }
   ],
   "source": [
    "# Generate descriptive statistics from the DataFrame.\n",
    "mov.describe()"
   ]
  },
  {
   "cell_type": "code",
   "execution_count": 5,
   "id": "functional-aside",
   "metadata": {},
   "outputs": [
    {
     "data": {
      "text/plain": [
       "0"
      ]
     },
     "execution_count": 5,
     "metadata": {},
     "output_type": "execute_result"
    }
   ],
   "source": [
    "# Check the duplicated values.\n",
    "mov.duplicated().sum()"
   ]
  },
  {
   "cell_type": "markdown",
   "id": "unsigned-methodology",
   "metadata": {},
   "source": [
    "### Observations:\n",
    "1. genre column and MPAA_rating column have NaN values.\n",
    "2. Type of release_date, total_gross, inflation_adjusted_gross columns are object, But:\n",
    "> - release_date must be Datetime.\n",
    "> - total_gross and inflation_adjusted_gross must be int.\n",
    "3. There are no duplicate values."
   ]
  },
  {
   "cell_type": "markdown",
   "id": "independent-explosion",
   "metadata": {},
   "source": [
    "<a id='cleaning'></a>\n",
    "## Data Cleaning"
   ]
  },
  {
   "cell_type": "markdown",
   "id": "suburban-commission",
   "metadata": {},
   "source": [
    "### 1. genre column and MPAA_rating column have NaN values."
   ]
  },
  {
   "cell_type": "code",
   "execution_count": 6,
   "id": "narrative-bloom",
   "metadata": {},
   "outputs": [
    {
     "data": {
      "text/plain": [
       "17"
      ]
     },
     "execution_count": 6,
     "metadata": {},
     "output_type": "execute_result"
    }
   ],
   "source": [
    "mov.genre.isnull().sum()"
   ]
  },
  {
   "cell_type": "code",
   "execution_count": 7,
   "id": "infectious-commission",
   "metadata": {},
   "outputs": [
    {
     "data": {
      "text/plain": [
       "56"
      ]
     },
     "execution_count": 7,
     "metadata": {},
     "output_type": "execute_result"
    }
   ],
   "source": [
    "mov.MPAA_rating.isnull().sum()"
   ]
  },
  {
   "cell_type": "code",
   "execution_count": 8,
   "id": "technical-cable",
   "metadata": {},
   "outputs": [],
   "source": [
    "# Fill the NaN values in the genre column with the median.\n",
    "mov.genre.fillna(mov.genre.median, inplace = True)\n",
    "\n",
    "# Fill the NaN values in MPAA_rating column with the median.\n",
    "mov.MPAA_rating.fillna(mov.MPAA_rating.median, inplace = True)"
   ]
  },
  {
   "cell_type": "code",
   "execution_count": 9,
   "id": "received-adelaide",
   "metadata": {
    "scrolled": true
   },
   "outputs": [
    {
     "name": "stdout",
     "output_type": "stream",
     "text": [
      "<class 'pandas.core.frame.DataFrame'>\n",
      "RangeIndex: 579 entries, 0 to 578\n",
      "Data columns (total 6 columns):\n",
      " #   Column                    Non-Null Count  Dtype \n",
      "---  ------                    --------------  ----- \n",
      " 0   movie_title               579 non-null    object\n",
      " 1   release_date              579 non-null    object\n",
      " 2   genre                     579 non-null    object\n",
      " 3   MPAA_rating               579 non-null    object\n",
      " 4   total_gross               579 non-null    object\n",
      " 5   inflation_adjusted_gross  579 non-null    object\n",
      "dtypes: object(6)\n",
      "memory usage: 27.3+ KB\n"
     ]
    }
   ],
   "source": [
    "# Check the information of the DataFrame after getting rid of NaN.\n",
    "mov.info()"
   ]
  },
  {
   "cell_type": "markdown",
   "id": "adequate-scoop",
   "metadata": {},
   "source": [
    "### 2. Convert the type of release_date, total_gross, and inflation_adjusted_gross columns."
   ]
  },
  {
   "cell_type": "code",
   "execution_count": 10,
   "id": "ultimate-messenger",
   "metadata": {},
   "outputs": [],
   "source": [
    "# Convert the type of release_data column to datetime.\n",
    "mov.release_date = pd.to_datetime(mov.release_date)"
   ]
  },
  {
   "cell_type": "code",
   "execution_count": 11,
   "id": "lyric-questionnaire",
   "metadata": {},
   "outputs": [],
   "source": [
    "# Convert the type of total_gross and inflation_adjusted_gross columns to int.\n",
    "mov.total_gross = mov.total_gross.replace({'\\$': '', ',': ''}, regex = True)\n",
    "mov.total_gross = mov.total_gross.astype(int)\n",
    "\n",
    "mov.inflation_adjusted_gross = mov.inflation_adjusted_gross.replace({'\\$': '', ',': ''}, regex = True).astype(int)"
   ]
  },
  {
   "cell_type": "code",
   "execution_count": 12,
   "id": "comic-xerox",
   "metadata": {},
   "outputs": [
    {
     "name": "stdout",
     "output_type": "stream",
     "text": [
      "<class 'pandas.core.frame.DataFrame'>\n",
      "RangeIndex: 579 entries, 0 to 578\n",
      "Data columns (total 6 columns):\n",
      " #   Column                    Non-Null Count  Dtype         \n",
      "---  ------                    --------------  -----         \n",
      " 0   movie_title               579 non-null    object        \n",
      " 1   release_date              579 non-null    datetime64[ns]\n",
      " 2   genre                     579 non-null    object        \n",
      " 3   MPAA_rating               579 non-null    object        \n",
      " 4   total_gross               579 non-null    int64         \n",
      " 5   inflation_adjusted_gross  579 non-null    int64         \n",
      "dtypes: datetime64[ns](1), int64(2), object(3)\n",
      "memory usage: 27.3+ KB\n"
     ]
    }
   ],
   "source": [
    "mov.info()"
   ]
  },
  {
   "cell_type": "code",
   "execution_count": 13,
   "id": "covered-bidding",
   "metadata": {},
   "outputs": [
    {
     "data": {
      "text/html": [
       "<div>\n",
       "<style scoped>\n",
       "    .dataframe tbody tr th:only-of-type {\n",
       "        vertical-align: middle;\n",
       "    }\n",
       "\n",
       "    .dataframe tbody tr th {\n",
       "        vertical-align: top;\n",
       "    }\n",
       "\n",
       "    .dataframe thead th {\n",
       "        text-align: right;\n",
       "    }\n",
       "</style>\n",
       "<table border=\"1\" class=\"dataframe\">\n",
       "  <thead>\n",
       "    <tr style=\"text-align: right;\">\n",
       "      <th></th>\n",
       "      <th>movie_title</th>\n",
       "      <th>release_date</th>\n",
       "      <th>genre</th>\n",
       "      <th>MPAA_rating</th>\n",
       "      <th>total_gross</th>\n",
       "      <th>inflation_adjusted_gross</th>\n",
       "    </tr>\n",
       "  </thead>\n",
       "  <tbody>\n",
       "    <tr>\n",
       "      <th>0</th>\n",
       "      <td>Snow White and the Seven Dwarfs</td>\n",
       "      <td>1937-12-21</td>\n",
       "      <td>Musical</td>\n",
       "      <td>G</td>\n",
       "      <td>184925485</td>\n",
       "      <td>5228953251</td>\n",
       "    </tr>\n",
       "    <tr>\n",
       "      <th>1</th>\n",
       "      <td>Pinocchio</td>\n",
       "      <td>1940-02-09</td>\n",
       "      <td>Adventure</td>\n",
       "      <td>G</td>\n",
       "      <td>84300000</td>\n",
       "      <td>2188229052</td>\n",
       "    </tr>\n",
       "    <tr>\n",
       "      <th>2</th>\n",
       "      <td>Fantasia</td>\n",
       "      <td>1940-11-13</td>\n",
       "      <td>Musical</td>\n",
       "      <td>G</td>\n",
       "      <td>83320000</td>\n",
       "      <td>2187090808</td>\n",
       "    </tr>\n",
       "    <tr>\n",
       "      <th>3</th>\n",
       "      <td>Song of the South</td>\n",
       "      <td>1946-11-12</td>\n",
       "      <td>Adventure</td>\n",
       "      <td>G</td>\n",
       "      <td>65000000</td>\n",
       "      <td>1078510579</td>\n",
       "    </tr>\n",
       "    <tr>\n",
       "      <th>4</th>\n",
       "      <td>Cinderella</td>\n",
       "      <td>1950-02-15</td>\n",
       "      <td>Drama</td>\n",
       "      <td>G</td>\n",
       "      <td>85000000</td>\n",
       "      <td>920608730</td>\n",
       "    </tr>\n",
       "  </tbody>\n",
       "</table>\n",
       "</div>"
      ],
      "text/plain": [
       "                       movie_title release_date      genre MPAA_rating  \\\n",
       "0  Snow White and the Seven Dwarfs   1937-12-21    Musical           G   \n",
       "1                        Pinocchio   1940-02-09  Adventure           G   \n",
       "2                         Fantasia   1940-11-13    Musical           G   \n",
       "3                Song of the South   1946-11-12  Adventure           G   \n",
       "4                       Cinderella   1950-02-15      Drama           G   \n",
       "\n",
       "   total_gross  inflation_adjusted_gross  \n",
       "0    184925485                5228953251  \n",
       "1     84300000                2188229052  \n",
       "2     83320000                2187090808  \n",
       "3     65000000                1078510579  \n",
       "4     85000000                 920608730  "
      ]
     },
     "execution_count": 13,
     "metadata": {},
     "output_type": "execute_result"
    }
   ],
   "source": [
    "mov.head()"
   ]
  },
  {
   "cell_type": "markdown",
   "id": "bearing-active",
   "metadata": {},
   "source": [
    "<a id='eda'></a>\n",
    "## Exploratory Data Analysis"
   ]
  },
  {
   "cell_type": "markdown",
   "id": "exceptional-manor",
   "metadata": {},
   "source": [
    "### 1. Top 10 movies at the box office?"
   ]
  },
  {
   "cell_type": "code",
   "execution_count": 14,
   "id": "b42737ce-5436-481a-8080-c27955fe64e4",
   "metadata": {},
   "outputs": [
    {
     "data": {
      "text/plain": [
       "564    936662225\n",
       "524    623279547\n",
       "578    529483936\n",
       "571    486295561\n",
       "558    459005868\n",
       "441    423315812\n",
       "179    422780140\n",
       "499    415004880\n",
       "532    408992272\n",
       "569    408084349\n",
       "Name: total_gross, dtype: int64"
      ]
     },
     "execution_count": 14,
     "metadata": {},
     "output_type": "execute_result"
    }
   ],
   "source": [
    "# Find the movie with the top gross.\n",
    "top_10_gross = mov.total_gross.nlargest(10)\n",
    "top_10_gross"
   ]
  },
  {
   "cell_type": "code",
   "execution_count": 15,
   "id": "7dd5193b-304a-450f-865e-a3daff2ba530",
   "metadata": {},
   "outputs": [
    {
     "data": {
      "text/plain": [
       "{936662225: '564    Star Wars Ep. VII: The Force Awakens',\n",
       " 623279547: '524    The Avengers',\n",
       " 529483936: '578    Rogue One: A Star Wars Story',\n",
       " 486295561: '571    Finding Dory',\n",
       " 459005868: '558    Avengers: Age of Ultron',\n",
       " 423315812: '441    Pirates of the Caribbean: Dead Man’…',\n",
       " 422780140: '179    The Lion King',\n",
       " 415004880: '499    Toy Story 3',\n",
       " 408992272: '532    Iron Man 3',\n",
       " 408084349: '569    Captain America: Civil War'}"
      ]
     },
     "execution_count": 15,
     "metadata": {},
     "output_type": "execute_result"
    }
   ],
   "source": [
    "# Creata a dic, then, store the name of the top 10 with his total gross in the dic.\n",
    "top10_titles = {}\n",
    "for total in top_10_gross:\n",
    "    top_title = mov['movie_title'][mov.total_gross == total]\n",
    "#     titles.update({total: top_title.to_string()})\n",
    "    top10_titles[total] = top_title.to_string()\n",
    "\n",
    "# Display the names wiht the index labedl.\n",
    "top10_titles"
   ]
  },
  {
   "cell_type": "markdown",
   "id": "998f509e-e902-4861-9675-caf33edc0dac",
   "metadata": {},
   "source": [
    " "
   ]
  },
  {
   "cell_type": "markdown",
   "id": "detailed-modem",
   "metadata": {},
   "source": [
    "### 2. Movie genre trend:"
   ]
  },
  {
   "cell_type": "code",
   "execution_count": 16,
   "id": "modular-thickness",
   "metadata": {},
   "outputs": [
    {
     "data": {
      "text/plain": [
       "{936662225: '564    Adventure',\n",
       " 623279547: '524    Action',\n",
       " 529483936: '578    Adventure',\n",
       " 486295561: '571    Adventure',\n",
       " 459005868: '558    Action',\n",
       " 423315812: '441    Adventure',\n",
       " 422780140: '179    Adventure',\n",
       " 415004880: '499    Adventure',\n",
       " 408992272: '532    Action',\n",
       " 408084349: '569    Action'}"
      ]
     },
     "execution_count": 16,
     "metadata": {},
     "output_type": "execute_result"
    }
   ],
   "source": [
    "# Display the gener of the top 10 movies.\n",
    "top_genres = {}\n",
    "for total in top_10_gross:\n",
    "    top_title = mov['genre'][mov.total_gross == total]\n",
    "    top_genres[total] = top_title.to_string()\n",
    "\n",
    "# Display the names wiht the index labedl.\n",
    "top_genres"
   ]
  },
  {
   "cell_type": "markdown",
   "id": "f4fde955-c610-44e9-bd4c-bca2175230ef",
   "metadata": {},
   "source": [
    ">There are **two** genres that are more popular than others in the top 10 movies in the Box office, **\"Adventure\"** and **\"Action\"**. And The two genres close together, Adventure outperforms Action by just one movie."
   ]
  },
  {
   "cell_type": "code",
   "execution_count": 17,
   "id": "833fde60-cc5b-485b-810e-15fdc7b16c7f",
   "metadata": {},
   "outputs": [
    {
     "data": {
      "text/plain": [
       "13"
      ]
     },
     "execution_count": 17,
     "metadata": {},
     "output_type": "execute_result"
    }
   ],
   "source": [
    "n_genres = mov['genre'].value_counts()\n",
    "len(n_genres)"
   ]
  },
  {
   "cell_type": "code",
   "execution_count": 18,
   "id": "4a256c68-f2ed-41bf-99bb-9eed2963871d",
   "metadata": {},
   "outputs": [
    {
     "ename": "TypeError",
     "evalue": "'Series' objects are mutable, thus they cannot be hashed",
     "output_type": "error",
     "traceback": [
      "\u001b[0;31m---------------------------------------------------------------------------\u001b[0m",
      "\u001b[0;31mTypeError\u001b[0m                                 Traceback (most recent call last)",
      "\u001b[0;32mpandas/_libs/hashtable_class_helper.pxi\u001b[0m in \u001b[0;36mpandas._libs.hashtable.PyObjectHashTable.map_locations\u001b[0;34m()\u001b[0m\n",
      "\u001b[0;32m~/anaconda3/lib/python3.7/site-packages/pandas/core/generic.py\u001b[0m in \u001b[0;36m__hash__\u001b[0;34m(self)\u001b[0m\n\u001b[1;32m   1784\u001b[0m     \u001b[0;32mdef\u001b[0m \u001b[0m__hash__\u001b[0m\u001b[0;34m(\u001b[0m\u001b[0mself\u001b[0m\u001b[0;34m)\u001b[0m \u001b[0;34m->\u001b[0m \u001b[0mint\u001b[0m\u001b[0;34m:\u001b[0m\u001b[0;34m\u001b[0m\u001b[0;34m\u001b[0m\u001b[0m\n\u001b[1;32m   1785\u001b[0m         raise TypeError(\n\u001b[0;32m-> 1786\u001b[0;31m             \u001b[0;34mf\"{repr(type(self).__name__)} objects are mutable, \"\u001b[0m\u001b[0;34m\u001b[0m\u001b[0;34m\u001b[0m\u001b[0m\n\u001b[0m\u001b[1;32m   1787\u001b[0m             \u001b[0;34mf\"thus they cannot be hashed\"\u001b[0m\u001b[0;34m\u001b[0m\u001b[0;34m\u001b[0m\u001b[0m\n\u001b[1;32m   1788\u001b[0m         )\n",
      "\u001b[0;31mTypeError\u001b[0m: 'Series' objects are mutable, thus they cannot be hashed"
     ]
    },
    {
     "name": "stderr",
     "output_type": "stream",
     "text": [
      "Exception ignored in: 'pandas._libs.index.IndexEngine._call_map_locations'\n",
      "Traceback (most recent call last):\n",
      "  File \"pandas/_libs/hashtable_class_helper.pxi\", line 4588, in pandas._libs.hashtable.PyObjectHashTable.map_locations\n",
      "  File \"/home/ahmed-fathi/anaconda3/lib/python3.7/site-packages/pandas/core/generic.py\", line 1786, in __hash__\n",
      "    f\"{repr(type(self).__name__)} objects are mutable, \"\n",
      "TypeError: 'Series' objects are mutable, thus they cannot be hashed\n"
     ]
    },
    {
     "data": {
      "text/plain": [
       "Comedy                                                                                                                                                                                                                                                                                                             182\n",
       "Adventure                                                                                                                                                                                                                                                                                                          129\n",
       "Drama                                                                                                                                                                                                                                                                                                              114\n",
       "Action                                                                                                                                                                                                                                                                                                              40\n",
       "Thriller/Suspense                                                                                                                                                                                                                                                                                                   24\n",
       "Romantic Comedy                                                                                                                                                                                                                                                                                                     23\n",
       "<bound method NDFrame._add_numeric_operations.<locals>.median of 0        Musical\\n1      Adventure\\n2        Musical\\n3      Adventure\\n4          Drama\\n         ...    \\n574        Drama\\n575        Drama\\n576    Adventure\\n577    Adventure\\n578    Adventure\\nName: genre, Length: 579, dtype: object>     17\n",
       "Documentary                                                                                                                                                                                                                                                                                                         16\n",
       "Musical                                                                                                                                                                                                                                                                                                             16\n",
       "Western                                                                                                                                                                                                                                                                                                              7\n",
       "Horror                                                                                                                                                                                                                                                                                                               6\n",
       "Black Comedy                                                                                                                                                                                                                                                                                                         3\n",
       "Concert/Performance                                                                                                                                                                                                                                                                                                  2\n",
       "Name: genre, dtype: int64"
      ]
     },
     "execution_count": 18,
     "metadata": {},
     "output_type": "execute_result"
    }
   ],
   "source": [
    "n_genres"
   ]
  },
  {
   "cell_type": "code",
   "execution_count": 19,
   "id": "9345645e-2379-4847-b131-1785bbd10371",
   "metadata": {},
   "outputs": [],
   "source": [
    "# # Make visualize for all genre.\n",
    "# fig, ax = plt.subplots()\n",
    "# ax.scatter(mov['total_gross'], mov[''])\n",
    "# ax.set_title('The box office revenues over the time')\n",
    "# ax.set_xlabel('The Date')\n",
    "# ax.set_ylabel('The revenue')"
   ]
  },
  {
   "cell_type": "markdown",
   "id": "09d6989b-fb95-4262-96b6-5ba5142eae6d",
   "metadata": {},
   "source": [
    " "
   ]
  },
  {
   "cell_type": "markdown",
   "id": "anticipated-celtic",
   "metadata": {},
   "source": [
    "### 3. Visualize the genre popularity trend:"
   ]
  },
  {
   "cell_type": "code",
   "execution_count": 20,
   "id": "ffc84f1b-9e0f-4c3c-b5a3-30c20b300fd6",
   "metadata": {},
   "outputs": [
    {
     "data": {
      "text/plain": [
       "Text(0, 0.5, 'The revenue')"
      ]
     },
     "execution_count": 20,
     "metadata": {},
     "output_type": "execute_result"
    },
    {
     "data": {
      "image/png": "[encoded data removed]",
      "text/plain": [
       "<Figure size 2160x720 with 1 Axes>"
      ]
     },
     "metadata": {
      "needs_background": "light"
     },
     "output_type": "display_data"
    }
   ],
   "source": [
    "# Make visualize for all genre.\n",
    "fig, ax = plt.subplots(figsize=(30, 10) )\n",
    "ax.plot(mov['release_date'], mov['total_gross'])\n",
    "ax.set_title('The box office revenues over the time')\n",
    "ax.set_xlabel('The Date')\n",
    "ax.set_ylabel('The revenue')"
   ]
  },
  {
   "cell_type": "markdown",
   "id": "bce8827a-d3b4-4211-be0b-c52f19969312",
   "metadata": {},
   "source": [
    " "
   ]
  },
  {
   "cell_type": "markdown",
   "id": "arranged-beads",
   "metadata": {},
   "source": [
    "### 4. Should Disney make more action and adventure movies?"
   ]
  },
  {
   "cell_type": "code",
   "execution_count": 21,
   "id": "c9812823-bb62-44a0-965a-7b8958924981",
   "metadata": {},
   "outputs": [
    {
     "data": {
      "text/plain": [
       "37462335553"
      ]
     },
     "execution_count": 21,
     "metadata": {},
     "output_type": "execute_result"
    }
   ],
   "source": [
    "# calculate the revenue of all genres.\n",
    "all_revenues = mov['total_gross'].sum()\n",
    "all_revenues"
   ]
  },
  {
   "cell_type": "code",
   "execution_count": 22,
   "id": "bd7f5fd0-d8e3-4735-bff6-8c01f6766884",
   "metadata": {},
   "outputs": [
    {
     "data": {
      "text/plain": [
       "16389069453"
      ]
     },
     "execution_count": 22,
     "metadata": {},
     "output_type": "execute_result"
    }
   ],
   "source": [
    "# calculate the revenue of Adventure genre.\n",
    "adventure_revenue = sum(mov['total_gross'][mov['genre'] == 'Adventure'])\n",
    "adventure_revenue"
   ]
  },
  {
   "cell_type": "code",
   "execution_count": 23,
   "id": "a0bb254c-b19c-4e3d-b39b-bd42f62eaf45",
   "metadata": {},
   "outputs": [
    {
     "data": {
      "text/plain": [
       "4184563282"
      ]
     },
     "execution_count": 23,
     "metadata": {},
     "output_type": "execute_result"
    }
   ],
   "source": [
    "# calculate the revenue of Action genre.\n",
    "action_revenue = sum(mov['total_gross'][mov['genre'] == 'Action'])\n",
    "action_revenue"
   ]
  },
  {
   "cell_type": "code",
   "execution_count": 24,
   "id": "067c1d5c-e03a-4022-9dae-69e5dc8fd481",
   "metadata": {},
   "outputs": [
    {
     "name": "stdout",
     "output_type": "stream",
     "text": [
      "The percentage of Action and Adventure movies from the total gross= 54.91817963643341%.\n",
      "The number of genre for the DataFram is 13 genres.\n"
     ]
    }
   ],
   "source": [
    "# Show the percentage of the Action and Adventu\n",
    "action_adventure_revenues = adventure_revenue + action_revenue\n",
    "print(f\"The percentage of Action and Adventure movies from the total gross= {(action_adventure_revenues / all_revenues) * 100}%.\")\n",
    "print(f\"The number of genre for the DataFram is {len(n_genres)} genres.\")"
   ]
  },
  {
   "cell_type": "markdown",
   "id": "49a6e4e9-9873-44ad-a3ae-4730dca47610",
   "metadata": {},
   "source": [
    ">From the percentage, We see the **Action** and **Adventure** movies are the two genres of movies their revenues represent **more than 50% of the total** revenues of the all genres. So, Disen should make more Action and Adventure movies."
   ]
  }
 ],
 "metadata": {
  "kernelspec": {
   "display_name": "Python 3",
   "language": "python",
   "name": "python3"
  },
  "language_info": {
   "codemirror_mode": {
    "name": "ipython",
    "version": 3
   },
   "file_extension": ".py",
   "mimetype": "text/x-python",
   "name": "python",
   "nbconvert_exporter": "python",
   "pygments_lexer": "ipython3",
   "version": "3.7.10"
  }
 },
 "nbformat": 4,
 "nbformat_minor": 5
}
